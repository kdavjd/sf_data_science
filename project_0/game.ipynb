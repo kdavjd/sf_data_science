{
 "cells": [
  {
   "cell_type": "markdown",
   "metadata": {},
   "source": [
    "# Игра угадай число"
   ]
  },
  {
   "cell_type": "code",
   "execution_count": 3,
   "metadata": {},
   "outputs": [],
   "source": [
    "from game_v2 import score_game\n",
    "from game_v2 import random_predict"
   ]
  },
  {
   "cell_type": "markdown",
   "metadata": {},
   "source": [
    "## Угадываем рандомно"
   ]
  },
  {
   "cell_type": "code",
   "execution_count": 4,
   "metadata": {},
   "outputs": [
    {
     "name": "stdout",
     "output_type": "stream",
     "text": [
      "Ваш алгоритм угадывает число в среднем за:101 попыток\n"
     ]
    },
    {
     "data": {
      "text/plain": [
       "101"
      ]
     },
     "execution_count": 4,
     "metadata": {},
     "output_type": "execute_result"
    }
   ],
   "source": [
    "score_game(random_predict)"
   ]
  },
  {
   "cell_type": "code",
   "execution_count": 15,
   "metadata": {},
   "outputs": [
    {
     "ename": "Exception",
     "evalue": "Число оказалось больше изучаемого диапазона",
     "output_type": "error",
     "traceback": [
      "\u001b[1;31m---------------------------------------------------------------------------\u001b[0m",
      "\u001b[1;31mException\u001b[0m                                 Traceback (most recent call last)",
      "\u001b[1;32mc:\\IDE\\project_0\\game.ipynb Cell 5'\u001b[0m in \u001b[0;36m<cell line: 60>\u001b[1;34m()\u001b[0m\n\u001b[0;32m     <a href='vscode-notebook-cell:/c%3A/IDE/project_0/game.ipynb#ch0000004?line=56'>57</a>\u001b[0m         \u001b[39melse\u001b[39;00m:\n\u001b[0;32m     <a href='vscode-notebook-cell:/c%3A/IDE/project_0/game.ipynb#ch0000004?line=57'>58</a>\u001b[0m             \u001b[39mraise\u001b[39;00m \u001b[39mException\u001b[39;00m(\u001b[39m'\u001b[39m\u001b[39mОшибка в нижних граничных исключениях\u001b[39m\u001b[39m'\u001b[39m)\n\u001b[1;32m---> <a href='vscode-notebook-cell:/c%3A/IDE/project_0/game.ipynb#ch0000004?line=59'>60</a>\u001b[0m \u001b[39mprint\u001b[39m(predict_by_divide(\u001b[39m4\u001b[39;49m))\n",
      "\u001b[1;32mc:\\IDE\\project_0\\game.ipynb Cell 5'\u001b[0m in \u001b[0;36mpredict_by_divide\u001b[1;34m(number, min_number, max_number)\u001b[0m\n\u001b[0;32m     <a href='vscode-notebook-cell:/c%3A/IDE/project_0/game.ipynb#ch0000004?line=29'>30</a>\u001b[0m                     \u001b[39mraise\u001b[39;00m \u001b[39mException\u001b[39;00m(\u001b[39m'\u001b[39m\u001b[39mПоздравляю, что-то не так.\u001b[39m\u001b[39m'\u001b[39m)\n\u001b[0;32m     <a href='vscode-notebook-cell:/c%3A/IDE/project_0/game.ipynb#ch0000004?line=30'>31</a>\u001b[0m         \u001b[39melse\u001b[39;00m:\n\u001b[1;32m---> <a href='vscode-notebook-cell:/c%3A/IDE/project_0/game.ipynb#ch0000004?line=31'>32</a>\u001b[0m             \u001b[39mraise\u001b[39;00m \u001b[39mException\u001b[39;00m(\u001b[39m'\u001b[39m\u001b[39mЧисло оказалось больше изучаемого диапазона\u001b[39m\u001b[39m'\u001b[39m)\n\u001b[0;32m     <a href='vscode-notebook-cell:/c%3A/IDE/project_0/game.ipynb#ch0000004?line=33'>34</a>\u001b[0m \u001b[39melif\u001b[39;00m max_number \u001b[39m>\u001b[39m\u001b[39m=\u001b[39m number \u001b[39m>\u001b[39m\u001b[39m=\u001b[39m \u001b[39mmax\u001b[39m(divide_list):\n\u001b[0;32m     <a href='vscode-notebook-cell:/c%3A/IDE/project_0/game.ipynb#ch0000004?line=34'>35</a>\u001b[0m     \u001b[39mif\u001b[39;00m number\u001b[39m%\u001b[39m\u001b[39m2\u001b[39m \u001b[39m==\u001b[39m \u001b[39m0\u001b[39m:\n",
      "\u001b[1;31mException\u001b[0m: Число оказалось больше изучаемого диапазона"
     ]
    }
   ],
   "source": [
    "import numpy as np\n",
    "def predict_by_divide(number: int =1, min_number: int=1, max_number: int=100) -> int:\n",
    "    \"\"\"_summary_\n",
    "\n",
    "    Args:\n",
    "        number (int, optional): _description_. Defaults to 1.\n",
    "\n",
    "    Returns:\n",
    "        int: _description_\n",
    "    \"\"\"\n",
    "    count=0\n",
    "    \n",
    "    divide_list = [border for border in range(min_number,max_number) if \\\n",
    "        border%2 == 0]\n",
    "    \n",
    "    if min(divide_list) < number < max(divide_list):\n",
    "        for border in divide_list:\n",
    "            if border > number:\n",
    "                if number%2 == 0:\n",
    "                    if number == border-2:\n",
    "                        count += 1\n",
    "                        break\n",
    "                    else:\n",
    "                        raise Exception('Поздравляю, что-то не так.')\n",
    "                else:\n",
    "                    if number == border-1:\n",
    "                        count+=1\n",
    "                        break\n",
    "                    else:\n",
    "                        raise Exception('Поздравляю, что-то не так.')\n",
    "            else:\n",
    "                raise Exception('Число оказалось больше изучаемого диапазона')\n",
    "            \n",
    "    elif max_number >= number >= max(divide_list):\n",
    "        if number%2 == 0:\n",
    "            if number == max(divide_list)+2:\n",
    "                count += 1                 \n",
    "            else:\n",
    "                raise Exception('Ошибка в верхних граничных исключениях')\n",
    "        elif number == max(divide_list)+1:\n",
    "            count += 1\n",
    "        elif number == max(divide_list):\n",
    "            count += 1       \n",
    "        else:\n",
    "            raise Exception('Ошибка в верхних граничных исключениях')\n",
    "    \n",
    "    elif min_number <= number <= min(divide_list):\n",
    "        if number%2 == 0:\n",
    "            if number == min(divide_list)-2:\n",
    "                count += 1                 \n",
    "            else:\n",
    "                raise Exception('Ошибка в нижних граничных исключениях')\n",
    "        elif number == max(divide_list)-1:\n",
    "            count += 1\n",
    "        elif number == max(divide_list):\n",
    "            count += 1\n",
    "        else:\n",
    "            raise Exception('Ошибка в нижних граничных исключениях')\n",
    "        \n",
    "print(predict_by_divide(4))"
   ]
  }
 ],
 "metadata": {
  "interpreter": {
   "hash": "dacbaecb06468868279e470aadb77148d1041af97fd301b2102547f31dc8bcf1"
  },
  "kernelspec": {
   "display_name": "Python 3.10.4 64-bit",
   "language": "python",
   "name": "python3"
  },
  "language_info": {
   "codemirror_mode": {
    "name": "ipython",
    "version": 3
   },
   "file_extension": ".py",
   "mimetype": "text/x-python",
   "name": "python",
   "nbconvert_exporter": "python",
   "pygments_lexer": "ipython3",
   "version": "3.10.4"
  },
  "orig_nbformat": 4
 },
 "nbformat": 4,
 "nbformat_minor": 2
}
